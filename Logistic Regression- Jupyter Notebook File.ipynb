{
 "cells": [
  {
   "cell_type": "code",
   "execution_count": 1,
   "metadata": {},
   "outputs": [],
   "source": [
    "# Logistic Regression- To evaluate the probability that bank customers will buy term deposits when Marketing Department engages them \n",
    "\n",
    "#Import the modules and packages\n",
    "\n",
    "import pandas as pd\n",
    "import numpy as np\n",
    "from sklearn import preprocessing\n",
    "import matplotlib.pyplot as plt\n",
    "plt.rc('font', size= 14)\n",
    "from sklearn.linear_model import LogisticRegression\n",
    "from sklearn.model_selection import train_test_split"
   ]
  },
  {
   "cell_type": "code",
   "execution_count": 2,
   "metadata": {},
   "outputs": [
    {
     "data": {
      "text/plain": [
       "(41176, 21)"
      ]
     },
     "execution_count": 2,
     "metadata": {},
     "output_type": "execute_result"
    }
   ],
   "source": [
    "# Import more modules and read dataset into the panda dataframe\n",
    "\n",
    "import seaborn as sns\n",
    "sns.set(style=\"white\")\n",
    "sns.set(style=\"whitegrid\", color_codes= True)\n",
    "\n",
    "df=pd.read_csv('banking.csv')\n",
    "\n",
    "#Remove duplicates, check/remove field statistics and nulls\n",
    "\n",
    "df.drop_duplicates(inplace= True)\n",
    "\n",
    "df.describe()\n",
    "\n",
    "df.columns\n",
    "\n",
    "df.isnull().sum()\n",
    "\n",
    "df.shape"
   ]
  },
  {
   "cell_type": "code",
   "execution_count": 3,
   "metadata": {},
   "outputs": [
    {
     "data": {
      "text/plain": [
       "0    married\n",
       "1    married\n",
       "2     single\n",
       "3    married\n",
       "4    married\n",
       "Name: marital, dtype: object"
      ]
     },
     "execution_count": 3,
     "metadata": {},
     "output_type": "execute_result"
    }
   ],
   "source": [
    "#I check the character types in the respective fields\n",
    "\n",
    "df.dtypes\n",
    "\n",
    "df.marital.head()"
   ]
  },
  {
   "cell_type": "code",
   "execution_count": 4,
   "metadata": {},
   "outputs": [],
   "source": [
    "# I check the unique rows in the education field, and group the similar levels.Here, I decided to replace 'basic.4y', 'basic.6y' and 'basic.9y' with 'basic'\n",
    "\n",
    "df.education.unique()\n",
    "\n",
    "df['education']= np.where(df['education']=='basic.9y', 'Basic', df['education'])"
   ]
  },
  {
   "cell_type": "code",
   "execution_count": 6,
   "metadata": {},
   "outputs": [
    {
     "data": {
      "text/plain": [
       "array(['Basic', 'unknown', 'university.degree', 'high.school',\n",
       "       'professional.course', 'illiterate'], dtype=object)"
      ]
     },
     "execution_count": 6,
     "metadata": {},
     "output_type": "execute_result"
    }
   ],
   "source": [
    "#Using Replace function with lambda\n",
    "\n",
    "df['education']= df.education.astype(str).apply(lambda x: x.replace('basic.9y', 'Basic'))\n",
    "\n",
    "df['education']= df.education.astype(str).apply(lambda x: x.replace('basic.6y', 'Basic'))\n",
    "\n",
    "df['education']= df.education.astype(str).apply(lambda x: x.replace('basic.4y', 'Basic'))\n",
    "\n",
    "df.education.value_counts()/df.education.shape[0]\n",
    "\n",
    "df.education.unique()"
   ]
  },
  {
   "cell_type": "code",
   "execution_count": 71,
   "metadata": {},
   "outputs": [
    {
     "data": {
      "text/plain": [
       "<matplotlib.axes._subplots.AxesSubplot at 0x1f4db45b460>"
      ]
     },
     "execution_count": 71,
     "metadata": {},
     "output_type": "execute_result"
    },
    {
     "data": {
      "image/png": "[encoded data removed]",
      "text/plain": [
       "<Figure size 432x288 with 1 Axes>"
      ]
     },
     "metadata": {
      "needs_background": "light"
     },
     "output_type": "display_data"
    }
   ],
   "source": [
    "#Data Exploration\n",
    "\n",
    "df.y.value_counts()\n",
    "df['y'].hist()\n"
   ]
  },
  {
   "cell_type": "code",
   "execution_count": 9,
   "metadata": {},
   "outputs": [
    {
     "data": {
      "image/png": "[encoded data removed]",
      "text/plain": [
       "<Figure size 432x288 with 1 Axes>"
      ]
     },
     "metadata": {},
     "output_type": "display_data"
    },
    {
     "data": {
      "text/plain": [
       "<Figure size 432x288 with 0 Axes>"
      ]
     },
     "metadata": {},
     "output_type": "display_data"
    }
   ],
   "source": [
    "#To view the distribution of client subscription to term deposit\n",
    "\n",
    "sns.countplot(x='y', data=df, palette='hls')\n",
    "\n",
    "plt.show()\n",
    "\n",
    "plt.savefig('countplot')"
   ]
  },
  {
   "cell_type": "code",
   "execution_count": 10,
   "metadata": {},
   "outputs": [
    {
     "data": {
      "text/plain": [
       "0    88.733728\n",
       "1    11.266272\n",
       "Name: y, dtype: float64"
      ]
     },
     "execution_count": 10,
     "metadata": {},
     "output_type": "execute_result"
    }
   ],
   "source": [
    "#Percentage of distribution#-----Only 11.27% shows yes, while 88.73% shows no\n",
    "\n",
    "(df.y.value_counts()/df.shape[0])*100"
   ]
  },
  {
   "cell_type": "code",
   "execution_count": 11,
   "metadata": {},
   "outputs": [
    {
     "name": "stdout",
     "output_type": "stream",
     "text": [
      "Percentage of Subscription 11.266271614532737\n",
      "Percentage of no Subscription 88.73372838546726\n"
     ]
    }
   ],
   "source": [
    "#At the ratio of 89:11 for not-subcribed to subscribed, the classes are skewed. Done differently:\n",
    "\n",
    "count_subscribed = len(df[df.y==1])\n",
    "\n",
    "count_not_subscribed = len(df[df.y==0])\n",
    "\n",
    "pct_subscribed = (count_subscribed/ (count_subscribed+count_not_subscribed))*100\n",
    "\n",
    "print('Percentage of Subscription',pct_subscribed)\n",
    "\n",
    "print('Percentage of no Subscription', 100-pct_subscribed)"
   ]
  },
  {
   "cell_type": "code",
   "execution_count": 12,
   "metadata": {},
   "outputs": [
    {
     "data": {
      "text/html": [
       "<div>\n",
       "<style scoped>\n",
       "    .dataframe tbody tr th:only-of-type {\n",
       "        vertical-align: middle;\n",
       "    }\n",
       "\n",
       "    .dataframe tbody tr th {\n",
       "        vertical-align: top;\n",
       "    }\n",
       "\n",
       "    .dataframe thead th {\n",
       "        text-align: right;\n",
       "    }\n",
       "</style>\n",
       "<table border=\"1\" class=\"dataframe\">\n",
       "  <thead>\n",
       "    <tr style=\"text-align: right;\">\n",
       "      <th></th>\n",
       "      <th>age</th>\n",
       "      <th>duration</th>\n",
       "      <th>campaign</th>\n",
       "      <th>pdays</th>\n",
       "      <th>previous</th>\n",
       "      <th>emp_var_rate</th>\n",
       "      <th>cons_price_idx</th>\n",
       "      <th>cons_conf_idx</th>\n",
       "      <th>euribor3m</th>\n",
       "      <th>nr_employed</th>\n",
       "    </tr>\n",
       "    <tr>\n",
       "      <th>y</th>\n",
       "      <th></th>\n",
       "      <th></th>\n",
       "      <th></th>\n",
       "      <th></th>\n",
       "      <th></th>\n",
       "      <th></th>\n",
       "      <th></th>\n",
       "      <th></th>\n",
       "      <th></th>\n",
       "      <th></th>\n",
       "    </tr>\n",
       "  </thead>\n",
       "  <tbody>\n",
       "    <tr>\n",
       "      <th>0</th>\n",
       "      <td>39.910994</td>\n",
       "      <td>220.868079</td>\n",
       "      <td>2.633385</td>\n",
       "      <td>984.109396</td>\n",
       "      <td>0.132414</td>\n",
       "      <td>0.248885</td>\n",
       "      <td>93.603798</td>\n",
       "      <td>-40.593232</td>\n",
       "      <td>3.811482</td>\n",
       "      <td>5176.165690</td>\n",
       "    </tr>\n",
       "    <tr>\n",
       "      <th>1</th>\n",
       "      <td>40.912266</td>\n",
       "      <td>553.256090</td>\n",
       "      <td>2.051951</td>\n",
       "      <td>791.990946</td>\n",
       "      <td>0.492779</td>\n",
       "      <td>-1.233089</td>\n",
       "      <td>93.354577</td>\n",
       "      <td>-39.791119</td>\n",
       "      <td>2.123362</td>\n",
       "      <td>5095.120069</td>\n",
       "    </tr>\n",
       "  </tbody>\n",
       "</table>\n",
       "</div>"
      ],
      "text/plain": [
       "         age    duration  campaign       pdays  previous  emp_var_rate  \\\n",
       "y                                                                        \n",
       "0  39.910994  220.868079  2.633385  984.109396  0.132414      0.248885   \n",
       "1  40.912266  553.256090  2.051951  791.990946  0.492779     -1.233089   \n",
       "\n",
       "   cons_price_idx  cons_conf_idx  euribor3m  nr_employed  \n",
       "y                                                         \n",
       "0       93.603798     -40.593232   3.811482  5176.165690  \n",
       "1       93.354577     -39.791119   2.123362  5095.120069  "
      ]
     },
     "execution_count": 12,
     "metadata": {},
     "output_type": "execute_result"
    }
   ],
   "source": [
    "#Using traditional SQL groupby for further exploration. This reveals that:\n",
    "#The average age of customers that bought investment product is higher than that of customers that did not buy\n",
    "#As expected, the days since customer was last contacted is lower for those that bought product\n",
    "#However, it is interesting to see that campaings are lower for customers that bought the term deposit\n",
    "\n",
    "df.groupby('y').mean()"
   ]
  },
  {
   "cell_type": "code",
   "execution_count": 13,
   "metadata": {},
   "outputs": [
    {
     "data": {
      "text/html": [
       "<div>\n",
       "<style scoped>\n",
       "    .dataframe tbody tr th:only-of-type {\n",
       "        vertical-align: middle;\n",
       "    }\n",
       "\n",
       "    .dataframe tbody tr th {\n",
       "        vertical-align: top;\n",
       "    }\n",
       "\n",
       "    .dataframe thead th {\n",
       "        text-align: right;\n",
       "    }\n",
       "</style>\n",
       "<table border=\"1\" class=\"dataframe\">\n",
       "  <thead>\n",
       "    <tr style=\"text-align: right;\">\n",
       "      <th></th>\n",
       "      <th>age</th>\n",
       "      <th>duration</th>\n",
       "      <th>campaign</th>\n",
       "      <th>pdays</th>\n",
       "      <th>previous</th>\n",
       "      <th>emp_var_rate</th>\n",
       "      <th>cons_price_idx</th>\n",
       "      <th>cons_conf_idx</th>\n",
       "      <th>euribor3m</th>\n",
       "      <th>nr_employed</th>\n",
       "      <th>y</th>\n",
       "    </tr>\n",
       "    <tr>\n",
       "      <th>education</th>\n",
       "      <th></th>\n",
       "      <th></th>\n",
       "      <th></th>\n",
       "      <th></th>\n",
       "      <th></th>\n",
       "      <th></th>\n",
       "      <th></th>\n",
       "      <th></th>\n",
       "      <th></th>\n",
       "      <th></th>\n",
       "      <th></th>\n",
       "    </tr>\n",
       "  </thead>\n",
       "  <tbody>\n",
       "    <tr>\n",
       "      <th>Basic</th>\n",
       "      <td>42.164162</td>\n",
       "      <td>263.054987</td>\n",
       "      <td>2.559623</td>\n",
       "      <td>974.876039</td>\n",
       "      <td>0.141065</td>\n",
       "      <td>0.191256</td>\n",
       "      <td>93.639905</td>\n",
       "      <td>-40.927957</td>\n",
       "      <td>3.729564</td>\n",
       "      <td>5172.012596</td>\n",
       "      <td>0.087036</td>\n",
       "    </tr>\n",
       "    <tr>\n",
       "      <th>high.school</th>\n",
       "      <td>37.996951</td>\n",
       "      <td>260.949117</td>\n",
       "      <td>2.568860</td>\n",
       "      <td>964.347456</td>\n",
       "      <td>0.185976</td>\n",
       "      <td>0.032843</td>\n",
       "      <td>93.584890</td>\n",
       "      <td>-40.940317</td>\n",
       "      <td>3.556085</td>\n",
       "      <td>5164.988394</td>\n",
       "      <td>0.108389</td>\n",
       "    </tr>\n",
       "    <tr>\n",
       "      <th>illiterate</th>\n",
       "      <td>48.500000</td>\n",
       "      <td>276.777778</td>\n",
       "      <td>2.277778</td>\n",
       "      <td>943.833333</td>\n",
       "      <td>0.111111</td>\n",
       "      <td>-0.133333</td>\n",
       "      <td>93.317333</td>\n",
       "      <td>-39.950000</td>\n",
       "      <td>3.516556</td>\n",
       "      <td>5171.777778</td>\n",
       "      <td>0.222222</td>\n",
       "    </tr>\n",
       "    <tr>\n",
       "      <th>professional.course</th>\n",
       "      <td>40.083969</td>\n",
       "      <td>252.566603</td>\n",
       "      <td>2.586832</td>\n",
       "      <td>960.744084</td>\n",
       "      <td>0.163168</td>\n",
       "      <td>0.172309</td>\n",
       "      <td>93.569755</td>\n",
       "      <td>-40.123893</td>\n",
       "      <td>3.709739</td>\n",
       "      <td>5170.122805</td>\n",
       "      <td>0.113550</td>\n",
       "    </tr>\n",
       "    <tr>\n",
       "      <th>university.degree</th>\n",
       "      <td>38.876356</td>\n",
       "      <td>253.237340</td>\n",
       "      <td>2.563713</td>\n",
       "      <td>951.792174</td>\n",
       "      <td>0.192453</td>\n",
       "      <td>-0.027425</td>\n",
       "      <td>93.493711</td>\n",
       "      <td>-39.976726</td>\n",
       "      <td>3.530225</td>\n",
       "      <td>5163.248027</td>\n",
       "      <td>0.137208</td>\n",
       "    </tr>\n",
       "    <tr>\n",
       "      <th>unknown</th>\n",
       "      <td>43.485549</td>\n",
       "      <td>262.491329</td>\n",
       "      <td>2.597110</td>\n",
       "      <td>942.798266</td>\n",
       "      <td>0.226590</td>\n",
       "      <td>0.058324</td>\n",
       "      <td>93.658465</td>\n",
       "      <td>-39.876185</td>\n",
       "      <td>3.570291</td>\n",
       "      <td>5159.509884</td>\n",
       "      <td>0.145087</td>\n",
       "    </tr>\n",
       "  </tbody>\n",
       "</table>\n",
       "</div>"
      ],
      "text/plain": [
       "                           age    duration  campaign       pdays  previous  \\\n",
       "education                                                                    \n",
       "Basic                42.164162  263.054987  2.559623  974.876039  0.141065   \n",
       "high.school          37.996951  260.949117  2.568860  964.347456  0.185976   \n",
       "illiterate           48.500000  276.777778  2.277778  943.833333  0.111111   \n",
       "professional.course  40.083969  252.566603  2.586832  960.744084  0.163168   \n",
       "university.degree    38.876356  253.237340  2.563713  951.792174  0.192453   \n",
       "unknown              43.485549  262.491329  2.597110  942.798266  0.226590   \n",
       "\n",
       "                     emp_var_rate  cons_price_idx  cons_conf_idx  euribor3m  \\\n",
       "education                                                                     \n",
       "Basic                    0.191256       93.639905     -40.927957   3.729564   \n",
       "high.school              0.032843       93.584890     -40.940317   3.556085   \n",
       "illiterate              -0.133333       93.317333     -39.950000   3.516556   \n",
       "professional.course      0.172309       93.569755     -40.123893   3.709739   \n",
       "university.degree       -0.027425       93.493711     -39.976726   3.530225   \n",
       "unknown                  0.058324       93.658465     -39.876185   3.570291   \n",
       "\n",
       "                     nr_employed         y  \n",
       "education                                   \n",
       "Basic                5172.012596  0.087036  \n",
       "high.school          5164.988394  0.108389  \n",
       "illiterate           5171.777778  0.222222  \n",
       "professional.course  5170.122805  0.113550  \n",
       "university.degree    5163.248027  0.137208  \n",
       "unknown              5159.509884  0.145087  "
      ]
     },
     "execution_count": 13,
     "metadata": {},
     "output_type": "execute_result"
    }
   ],
   "source": [
    "# For further insights, I drew the categorical means for other categorical variables\n",
    "\n",
    "df.groupby('job').mean()\n",
    "\n",
    "df.groupby('marital').mean()\n",
    "\n",
    "df.groupby('education').mean()"
   ]
  },
  {
   "cell_type": "code",
   "execution_count": 14,
   "metadata": {},
   "outputs": [
    {
     "data": {
      "image/png": "[encoded data removed]",
      "text/plain": [
       "<Figure size 432x288 with 1 Axes>"
      ]
     },
     "metadata": {
      "needs_background": "light"
     },
     "output_type": "display_data"
    }
   ],
   "source": [
    "#Visualization : The job title is a good predictor of the outcome variable\n",
    "\n",
    "%matplotlib inline\n",
    "\n",
    "pd.crosstab(df.job,df.y).plot(kind='bar')\n",
    "plt.title('Investment Product Purchase Frequency for Jobs')\n",
    "plt.xlabel('Job')\n",
    "plt.ylabel('Frequency of Purchase')\n",
    "plt.savefig('purchase_freq_with_job')"
   ]
  },
  {
   "cell_type": "code",
   "execution_count": 15,
   "metadata": {},
   "outputs": [
    {
     "data": {
      "image/png": "[encoded data removed]",
      "text/plain": [
       "<Figure size 432x288 with 1 Axes>"
      ]
     },
     "metadata": {
      "needs_background": "light"
     },
     "output_type": "display_data"
    }
   ],
   "source": [
    "# Marital status does not seem a good predictor for the outcome variable.\n",
    "\n",
    "MaritalY_table= pd.crosstab(df.marital, df.y)\n",
    "MaritalY_table.div(MaritalY_table.sum(1).astype(float),axis =0).plot(kind='bar',stacked= True)\n",
    "plt.title=('Marital Status vs. Purchase')\n",
    "plt.xlabel('Marital Status')\n",
    "plt.ylabel('Percentage of Customers')\n",
    "plt.savefig('Stacked_Marital_vs_Purchase')"
   ]
  },
  {
   "cell_type": "code",
   "execution_count": 16,
   "metadata": {},
   "outputs": [
    {
     "data": {
      "image/png": "[encoded data removed]",
      "text/plain": [
       "<Figure size 432x288 with 1 Axes>"
      ]
     },
     "metadata": {
      "needs_background": "light"
     },
     "output_type": "display_data"
    }
   ],
   "source": [
    "#Education seenms a great predictor of the outcome variable\n",
    "\n",
    "EducaY_table= pd.crosstab(df.education, df.y)\n",
    "EducaY_table.div(EducaY_table.sum(1).astype(float),axis =0).plot(kind='bar',stacked= True)\n",
    "plt.title=('Education vs. Purchase')\n",
    "plt.xlabel('Education')\n",
    "plt.ylabel('Percentage of Customers')\n",
    "plt.savefig('Stacked_Education_vs_Purchase')"
   ]
  },
  {
   "cell_type": "code",
   "execution_count": 18,
   "metadata": {},
   "outputs": [
    {
     "data": {
      "image/png": "[encoded data removed]",
      "text/plain": [
       "<Figure size 432x288 with 1 Axes>"
      ]
     },
     "metadata": {
      "needs_background": "light"
     },
     "output_type": "display_data"
    }
   ],
   "source": [
    "#Day of the week may not be a good predictor of the outcome variable\n",
    "\n",
    "pd.crosstab(df.day_of_week,df.y).plot(kind='bar')\n",
    "plt.xlabel('Day of the Week')\n",
    "plt.ylabel('Frequency of Purchase')\n",
    "plt.savefig('purchase_freq_with_weekday')"
   ]
  },
  {
   "cell_type": "code",
   "execution_count": 20,
   "metadata": {},
   "outputs": [
    {
     "data": {
      "image/png": "[encoded data removed]",
      "text/plain": [
       "<Figure size 432x288 with 1 Axes>"
      ]
     },
     "metadata": {
      "needs_background": "light"
     },
     "output_type": "display_data"
    }
   ],
   "source": [
    "#Month might be a good predictor of the outcome variable\n",
    "\n",
    "pd.crosstab(df.month,df.y).plot(kind='bar')\n",
    "plt.xlabel('Month')\n",
    "plt.ylabel('Frequency of Purchase')\n",
    "plt.savefig('purchase_freq_with_month')"
   ]
  },
  {
   "cell_type": "code",
   "execution_count": 23,
   "metadata": {},
   "outputs": [
    {
     "data": {
      "image/png": "[encoded data removed]",
      "text/plain": [
       "<Figure size 432x288 with 1 Axes>"
      ]
     },
     "metadata": {
      "needs_background": "light"
     },
     "output_type": "display_data"
    }
   ],
   "source": [
    "#Evaluating age distribution.Most of the bank customers studied in this dataset fall in the 30-40 age range\n",
    "\n",
    "df.age.hist()\n",
    "plt.xlabel('Age')\n",
    "plt.ylabel('Frequency')\n",
    "plt.savefig('Distr_age')"
   ]
  },
  {
   "cell_type": "code",
   "execution_count": 26,
   "metadata": {},
   "outputs": [
    {
     "data": {
      "image/png": "[encoded data removed]",
      "text/plain": [
       "<Figure size 432x288 with 1 Axes>"
      ]
     },
     "metadata": {
      "needs_background": "light"
     },
     "output_type": "display_data"
    }
   ],
   "source": [
    "#Investment Product Purchase Frequency with Previous Campaign Outcome\n",
    "\n",
    "pd.crosstab(df.poutcome,df.y).plot(kind='bar')\n",
    "plt.xlabel('PrevOutcome')\n",
    "plt.ylabel('Frequency of Purchase')\n",
    "plt.savefig('purchase_freq_with_prevoutcome')"
   ]
  },
  {
   "cell_type": "code",
   "execution_count": 27,
   "metadata": {},
   "outputs": [],
   "source": [
    "#Previous campaign outcome seems to be a good predictor of the outcome variable\n",
    "# Creating dummy variables from categorical vars. As there are many in the dataset, I use a 'for' loop\n",
    "\n",
    "cat_vars= ['job','marital','education','default','housing','loan','contact','month','day_of_week','poutcome']\n",
    "\n",
    "for var in cat_vars:\n",
    "    \n",
    "    cat_list= 'var'+''+var\n",
    "    \n",
    "    cat_list =pd.get_dummies(df[var],prefix=var)\n",
    "    \n",
    "    df1=df.join(cat_list)\n",
    "    \n",
    "    df=df1"
   ]
  },
  {
   "cell_type": "code",
   "execution_count": 28,
   "metadata": {},
   "outputs": [],
   "source": [
    "# We remove the actual categorical variables, as the dummies are created\n",
    "\n",
    "cat_vars= ['job','marital','education','default','housing','loan','contact','month','day_of_week','poutcome']\n",
    "\n",
    "df_vars= df.columns.values.tolist()\n",
    "\n",
    "to_keep = [i for i in df_vars if i not in cat_vars]"
   ]
  },
  {
   "cell_type": "code",
   "execution_count": 29,
   "metadata": {},
   "outputs": [
    {
     "data": {
      "text/plain": [
       "array(['age', 'duration', 'campaign', 'pdays', 'previous', 'emp_var_rate',\n",
       "       'cons_price_idx', 'cons_conf_idx', 'euribor3m', 'nr_employed', 'y',\n",
       "       'job_admin.', 'job_blue-collar', 'job_entrepreneur',\n",
       "       'job_housemaid', 'job_management', 'job_retired',\n",
       "       'job_self-employed', 'job_services', 'job_student',\n",
       "       'job_technician', 'job_unemployed', 'job_unknown',\n",
       "       'marital_divorced', 'marital_married', 'marital_single',\n",
       "       'marital_unknown', 'education_Basic', 'education_high.school',\n",
       "       'education_illiterate', 'education_professional.course',\n",
       "       'education_university.degree', 'education_unknown', 'default_no',\n",
       "       'default_unknown', 'default_yes', 'housing_no', 'housing_unknown',\n",
       "       'housing_yes', 'loan_no', 'loan_unknown', 'loan_yes',\n",
       "       'contact_cellular', 'contact_telephone', 'month_apr', 'month_aug',\n",
       "       'month_dec', 'month_jul', 'month_jun', 'month_mar', 'month_may',\n",
       "       'month_nov', 'month_oct', 'month_sep', 'day_of_week_fri',\n",
       "       'day_of_week_mon', 'day_of_week_thu', 'day_of_week_tue',\n",
       "       'day_of_week_wed', 'poutcome_failure', 'poutcome_nonexistent',\n",
       "       'poutcome_success'], dtype=object)"
      ]
     },
     "execution_count": 29,
     "metadata": {},
     "output_type": "execute_result"
    }
   ],
   "source": [
    "#The dataframe is now subset to keep only columns in the to_keep list\n",
    "\n",
    "df_final =df[to_keep]\n",
    "df_final.columns.values"
   ]
  },
  {
   "cell_type": "code",
   "execution_count": 30,
   "metadata": {},
   "outputs": [],
   "source": [
    "# To work on the unbaalanced dataset,I up-sample the subscription number, using SMOTE algorithm\n",
    "# The Synthetic Minority Oversampling Technique chooses the k-nearest-neighbors to create a similar, but randomly tweaked, new observations\n",
    "\n",
    "x= df_final.loc[:, df_final.columns != 'y']\n",
    "\n",
    "y= df_final.loc[:, df_final.columns=='y']\n",
    "\n",
    "from imblearn.over_sampling import SMOTE\n",
    "\n",
    "OS = SMOTE(random_state = 0)\n",
    "\n",
    "x_train, x_test, y_train, y_test = train_test_split(x,y, test_size = 0.3, random_state= 0)\n",
    "columns = x_train.columns\n",
    "\n",
    "OS_df_x, OS_df_y = OS. fit_sample(x_train, y_train)\n",
    "\n",
    "OS_df_x = pd.DataFrame(data= OS_df_x, columns= columns)\n",
    "\n",
    "OS_df_y = pd.DataFrame(data= OS_df_y, columns = ['y'])"
   ]
  },
  {
   "cell_type": "code",
   "execution_count": 32,
   "metadata": {},
   "outputs": [
    {
     "name": "stdout",
     "output_type": "stream",
     "text": [
      "length of oversampled data is 51162\n",
      "number of no subscription in oversampled data 25581\n",
      "number of subscription in oversampled data 25581\n",
      "proportion of no subscription in oversampled data is 0.5\n",
      "proportion of subscription is 0.5\n"
     ]
    }
   ],
   "source": [
    "#I'd check the distribution of the dataset, post SMOTING\n",
    "\n",
    "print('length of oversampled data is', len(OS_df_x))\n",
    "\n",
    "print('number of no subscription in oversampled data', len(OS_df_y[OS_df_y['y']==0]))\n",
    "\n",
    "print('number of subscription in oversampled data', len(OS_df_y[OS_df_y['y']==1]))\n",
    "\n",
    "print('proportion of no subscription in oversampled data is', len(OS_df_y[OS_df_y['y']==0])/len(OS_df_x))\n",
    "\n",
    "print('proportion of subscription is', len(OS_df_y[OS_df_y['y']==1])/len(OS_df_x))\n"
   ]
  },
  {
   "cell_type": "code",
   "execution_count": 33,
   "metadata": {},
   "outputs": [
    {
     "name": "stderr",
     "output_type": "stream",
     "text": [
      "C:\\Users\\jider\\anaconda3\\lib\\site-packages\\sklearn\\utils\\validation.py:67: FutureWarning: Pass n_features_to_select=20 as keyword args. From version 0.25 passing these as positional arguments will result in an error\n",
      "  warnings.warn(\"Pass {} as keyword args. From version 0.25 \"\n",
      "C:\\Users\\jider\\anaconda3\\lib\\site-packages\\sklearn\\linear_model\\_logistic.py:762: ConvergenceWarning: lbfgs failed to converge (status=1):\n",
      "STOP: TOTAL NO. of ITERATIONS REACHED LIMIT.\n",
      "\n",
      "Increase the number of iterations (max_iter) or scale the data as shown in:\n",
      "    https://scikit-learn.org/stable/modules/preprocessing.html\n",
      "Please also refer to the documentation for alternative solver options:\n",
      "    https://scikit-learn.org/stable/modules/linear_model.html#logistic-regression\n",
      "  n_iter_i = _check_optimize_result(\n",
      "C:\\Users\\jider\\anaconda3\\lib\\site-packages\\sklearn\\linear_model\\_logistic.py:762: ConvergenceWarning: lbfgs failed to converge (status=1):\n",
      "STOP: TOTAL NO. of ITERATIONS REACHED LIMIT.\n",
      "\n",
      "Increase the number of iterations (max_iter) or scale the data as shown in:\n",
      "    https://scikit-learn.org/stable/modules/preprocessing.html\n",
      "Please also refer to the documentation for alternative solver options:\n",
      "    https://scikit-learn.org/stable/modules/linear_model.html#logistic-regression\n",
      "  n_iter_i = _check_optimize_result(\n",
      "C:\\Users\\jider\\anaconda3\\lib\\site-packages\\sklearn\\linear_model\\_logistic.py:762: ConvergenceWarning: lbfgs failed to converge (status=1):\n",
      "STOP: TOTAL NO. of ITERATIONS REACHED LIMIT.\n",
      "\n",
      "Increase the number of iterations (max_iter) or scale the data as shown in:\n",
      "    https://scikit-learn.org/stable/modules/preprocessing.html\n",
      "Please also refer to the documentation for alternative solver options:\n",
      "    https://scikit-learn.org/stable/modules/linear_model.html#logistic-regression\n",
      "  n_iter_i = _check_optimize_result(\n",
      "C:\\Users\\jider\\anaconda3\\lib\\site-packages\\sklearn\\linear_model\\_logistic.py:762: ConvergenceWarning: lbfgs failed to converge (status=1):\n",
      "STOP: TOTAL NO. of ITERATIONS REACHED LIMIT.\n",
      "\n",
      "Increase the number of iterations (max_iter) or scale the data as shown in:\n",
      "    https://scikit-learn.org/stable/modules/preprocessing.html\n",
      "Please also refer to the documentation for alternative solver options:\n",
      "    https://scikit-learn.org/stable/modules/linear_model.html#logistic-regression\n",
      "  n_iter_i = _check_optimize_result(\n",
      "C:\\Users\\jider\\anaconda3\\lib\\site-packages\\sklearn\\linear_model\\_logistic.py:762: ConvergenceWarning: lbfgs failed to converge (status=1):\n",
      "STOP: TOTAL NO. of ITERATIONS REACHED LIMIT.\n",
      "\n",
      "Increase the number of iterations (max_iter) or scale the data as shown in:\n",
      "    https://scikit-learn.org/stable/modules/preprocessing.html\n",
      "Please also refer to the documentation for alternative solver options:\n",
      "    https://scikit-learn.org/stable/modules/linear_model.html#logistic-regression\n",
      "  n_iter_i = _check_optimize_result(\n",
      "C:\\Users\\jider\\anaconda3\\lib\\site-packages\\sklearn\\linear_model\\_logistic.py:762: ConvergenceWarning: lbfgs failed to converge (status=1):\n",
      "STOP: TOTAL NO. of ITERATIONS REACHED LIMIT.\n",
      "\n",
      "Increase the number of iterations (max_iter) or scale the data as shown in:\n",
      "    https://scikit-learn.org/stable/modules/preprocessing.html\n",
      "Please also refer to the documentation for alternative solver options:\n",
      "    https://scikit-learn.org/stable/modules/linear_model.html#logistic-regression\n",
      "  n_iter_i = _check_optimize_result(\n",
      "C:\\Users\\jider\\anaconda3\\lib\\site-packages\\sklearn\\linear_model\\_logistic.py:762: ConvergenceWarning: lbfgs failed to converge (status=1):\n",
      "STOP: TOTAL NO. of ITERATIONS REACHED LIMIT.\n",
      "\n",
      "Increase the number of iterations (max_iter) or scale the data as shown in:\n",
      "    https://scikit-learn.org/stable/modules/preprocessing.html\n",
      "Please also refer to the documentation for alternative solver options:\n",
      "    https://scikit-learn.org/stable/modules/linear_model.html#logistic-regression\n",
      "  n_iter_i = _check_optimize_result(\n",
      "C:\\Users\\jider\\anaconda3\\lib\\site-packages\\sklearn\\linear_model\\_logistic.py:762: ConvergenceWarning: lbfgs failed to converge (status=1):\n",
      "STOP: TOTAL NO. of ITERATIONS REACHED LIMIT.\n",
      "\n",
      "Increase the number of iterations (max_iter) or scale the data as shown in:\n",
      "    https://scikit-learn.org/stable/modules/preprocessing.html\n",
      "Please also refer to the documentation for alternative solver options:\n",
      "    https://scikit-learn.org/stable/modules/linear_model.html#logistic-regression\n",
      "  n_iter_i = _check_optimize_result(\n",
      "C:\\Users\\jider\\anaconda3\\lib\\site-packages\\sklearn\\linear_model\\_logistic.py:762: ConvergenceWarning: lbfgs failed to converge (status=1):\n",
      "STOP: TOTAL NO. of ITERATIONS REACHED LIMIT.\n",
      "\n",
      "Increase the number of iterations (max_iter) or scale the data as shown in:\n",
      "    https://scikit-learn.org/stable/modules/preprocessing.html\n",
      "Please also refer to the documentation for alternative solver options:\n",
      "    https://scikit-learn.org/stable/modules/linear_model.html#logistic-regression\n",
      "  n_iter_i = _check_optimize_result(\n",
      "C:\\Users\\jider\\anaconda3\\lib\\site-packages\\sklearn\\linear_model\\_logistic.py:762: ConvergenceWarning: lbfgs failed to converge (status=1):\n",
      "STOP: TOTAL NO. of ITERATIONS REACHED LIMIT.\n",
      "\n",
      "Increase the number of iterations (max_iter) or scale the data as shown in:\n",
      "    https://scikit-learn.org/stable/modules/preprocessing.html\n",
      "Please also refer to the documentation for alternative solver options:\n",
      "    https://scikit-learn.org/stable/modules/linear_model.html#logistic-regression\n",
      "  n_iter_i = _check_optimize_result(\n",
      "C:\\Users\\jider\\anaconda3\\lib\\site-packages\\sklearn\\linear_model\\_logistic.py:762: ConvergenceWarning: lbfgs failed to converge (status=1):\n",
      "STOP: TOTAL NO. of ITERATIONS REACHED LIMIT.\n",
      "\n",
      "Increase the number of iterations (max_iter) or scale the data as shown in:\n",
      "    https://scikit-learn.org/stable/modules/preprocessing.html\n",
      "Please also refer to the documentation for alternative solver options:\n",
      "    https://scikit-learn.org/stable/modules/linear_model.html#logistic-regression\n",
      "  n_iter_i = _check_optimize_result(\n",
      "C:\\Users\\jider\\anaconda3\\lib\\site-packages\\sklearn\\linear_model\\_logistic.py:762: ConvergenceWarning: lbfgs failed to converge (status=1):\n",
      "STOP: TOTAL NO. of ITERATIONS REACHED LIMIT.\n",
      "\n",
      "Increase the number of iterations (max_iter) or scale the data as shown in:\n",
      "    https://scikit-learn.org/stable/modules/preprocessing.html\n",
      "Please also refer to the documentation for alternative solver options:\n",
      "    https://scikit-learn.org/stable/modules/linear_model.html#logistic-regression\n",
      "  n_iter_i = _check_optimize_result(\n",
      "C:\\Users\\jider\\anaconda3\\lib\\site-packages\\sklearn\\linear_model\\_logistic.py:762: ConvergenceWarning: lbfgs failed to converge (status=1):\n",
      "STOP: TOTAL NO. of ITERATIONS REACHED LIMIT.\n",
      "\n",
      "Increase the number of iterations (max_iter) or scale the data as shown in:\n",
      "    https://scikit-learn.org/stable/modules/preprocessing.html\n",
      "Please also refer to the documentation for alternative solver options:\n",
      "    https://scikit-learn.org/stable/modules/linear_model.html#logistic-regression\n",
      "  n_iter_i = _check_optimize_result(\n",
      "C:\\Users\\jider\\anaconda3\\lib\\site-packages\\sklearn\\linear_model\\_logistic.py:762: ConvergenceWarning: lbfgs failed to converge (status=1):\n",
      "STOP: TOTAL NO. of ITERATIONS REACHED LIMIT.\n",
      "\n",
      "Increase the number of iterations (max_iter) or scale the data as shown in:\n",
      "    https://scikit-learn.org/stable/modules/preprocessing.html\n",
      "Please also refer to the documentation for alternative solver options:\n",
      "    https://scikit-learn.org/stable/modules/linear_model.html#logistic-regression\n",
      "  n_iter_i = _check_optimize_result(\n",
      "C:\\Users\\jider\\anaconda3\\lib\\site-packages\\sklearn\\linear_model\\_logistic.py:762: ConvergenceWarning: lbfgs failed to converge (status=1):\n",
      "STOP: TOTAL NO. of ITERATIONS REACHED LIMIT.\n",
      "\n",
      "Increase the number of iterations (max_iter) or scale the data as shown in:\n",
      "    https://scikit-learn.org/stable/modules/preprocessing.html\n",
      "Please also refer to the documentation for alternative solver options:\n",
      "    https://scikit-learn.org/stable/modules/linear_model.html#logistic-regression\n",
      "  n_iter_i = _check_optimize_result(\n",
      "C:\\Users\\jider\\anaconda3\\lib\\site-packages\\sklearn\\linear_model\\_logistic.py:762: ConvergenceWarning: lbfgs failed to converge (status=1):\n",
      "STOP: TOTAL NO. of ITERATIONS REACHED LIMIT.\n",
      "\n",
      "Increase the number of iterations (max_iter) or scale the data as shown in:\n",
      "    https://scikit-learn.org/stable/modules/preprocessing.html\n",
      "Please also refer to the documentation for alternative solver options:\n",
      "    https://scikit-learn.org/stable/modules/linear_model.html#logistic-regression\n",
      "  n_iter_i = _check_optimize_result(\n"
     ]
    },
    {
     "name": "stderr",
     "output_type": "stream",
     "text": [
      "C:\\Users\\jider\\anaconda3\\lib\\site-packages\\sklearn\\linear_model\\_logistic.py:762: ConvergenceWarning: lbfgs failed to converge (status=1):\n",
      "STOP: TOTAL NO. of ITERATIONS REACHED LIMIT.\n",
      "\n",
      "Increase the number of iterations (max_iter) or scale the data as shown in:\n",
      "    https://scikit-learn.org/stable/modules/preprocessing.html\n",
      "Please also refer to the documentation for alternative solver options:\n",
      "    https://scikit-learn.org/stable/modules/linear_model.html#logistic-regression\n",
      "  n_iter_i = _check_optimize_result(\n",
      "C:\\Users\\jider\\anaconda3\\lib\\site-packages\\sklearn\\linear_model\\_logistic.py:762: ConvergenceWarning: lbfgs failed to converge (status=1):\n",
      "STOP: TOTAL NO. of ITERATIONS REACHED LIMIT.\n",
      "\n",
      "Increase the number of iterations (max_iter) or scale the data as shown in:\n",
      "    https://scikit-learn.org/stable/modules/preprocessing.html\n",
      "Please also refer to the documentation for alternative solver options:\n",
      "    https://scikit-learn.org/stable/modules/linear_model.html#logistic-regression\n",
      "  n_iter_i = _check_optimize_result(\n",
      "C:\\Users\\jider\\anaconda3\\lib\\site-packages\\sklearn\\linear_model\\_logistic.py:762: ConvergenceWarning: lbfgs failed to converge (status=1):\n",
      "STOP: TOTAL NO. of ITERATIONS REACHED LIMIT.\n",
      "\n",
      "Increase the number of iterations (max_iter) or scale the data as shown in:\n",
      "    https://scikit-learn.org/stable/modules/preprocessing.html\n",
      "Please also refer to the documentation for alternative solver options:\n",
      "    https://scikit-learn.org/stable/modules/linear_model.html#logistic-regression\n",
      "  n_iter_i = _check_optimize_result(\n",
      "C:\\Users\\jider\\anaconda3\\lib\\site-packages\\sklearn\\linear_model\\_logistic.py:762: ConvergenceWarning: lbfgs failed to converge (status=1):\n",
      "STOP: TOTAL NO. of ITERATIONS REACHED LIMIT.\n",
      "\n",
      "Increase the number of iterations (max_iter) or scale the data as shown in:\n",
      "    https://scikit-learn.org/stable/modules/preprocessing.html\n",
      "Please also refer to the documentation for alternative solver options:\n",
      "    https://scikit-learn.org/stable/modules/linear_model.html#logistic-regression\n",
      "  n_iter_i = _check_optimize_result(\n",
      "C:\\Users\\jider\\anaconda3\\lib\\site-packages\\sklearn\\linear_model\\_logistic.py:762: ConvergenceWarning: lbfgs failed to converge (status=1):\n",
      "STOP: TOTAL NO. of ITERATIONS REACHED LIMIT.\n",
      "\n",
      "Increase the number of iterations (max_iter) or scale the data as shown in:\n",
      "    https://scikit-learn.org/stable/modules/preprocessing.html\n",
      "Please also refer to the documentation for alternative solver options:\n",
      "    https://scikit-learn.org/stable/modules/linear_model.html#logistic-regression\n",
      "  n_iter_i = _check_optimize_result(\n",
      "C:\\Users\\jider\\anaconda3\\lib\\site-packages\\sklearn\\linear_model\\_logistic.py:762: ConvergenceWarning: lbfgs failed to converge (status=1):\n",
      "STOP: TOTAL NO. of ITERATIONS REACHED LIMIT.\n",
      "\n",
      "Increase the number of iterations (max_iter) or scale the data as shown in:\n",
      "    https://scikit-learn.org/stable/modules/preprocessing.html\n",
      "Please also refer to the documentation for alternative solver options:\n",
      "    https://scikit-learn.org/stable/modules/linear_model.html#logistic-regression\n",
      "  n_iter_i = _check_optimize_result(\n",
      "C:\\Users\\jider\\anaconda3\\lib\\site-packages\\sklearn\\linear_model\\_logistic.py:762: ConvergenceWarning: lbfgs failed to converge (status=1):\n",
      "STOP: TOTAL NO. of ITERATIONS REACHED LIMIT.\n",
      "\n",
      "Increase the number of iterations (max_iter) or scale the data as shown in:\n",
      "    https://scikit-learn.org/stable/modules/preprocessing.html\n",
      "Please also refer to the documentation for alternative solver options:\n",
      "    https://scikit-learn.org/stable/modules/linear_model.html#logistic-regression\n",
      "  n_iter_i = _check_optimize_result(\n",
      "C:\\Users\\jider\\anaconda3\\lib\\site-packages\\sklearn\\linear_model\\_logistic.py:762: ConvergenceWarning: lbfgs failed to converge (status=1):\n",
      "STOP: TOTAL NO. of ITERATIONS REACHED LIMIT.\n",
      "\n",
      "Increase the number of iterations (max_iter) or scale the data as shown in:\n",
      "    https://scikit-learn.org/stable/modules/preprocessing.html\n",
      "Please also refer to the documentation for alternative solver options:\n",
      "    https://scikit-learn.org/stable/modules/linear_model.html#logistic-regression\n",
      "  n_iter_i = _check_optimize_result(\n",
      "C:\\Users\\jider\\anaconda3\\lib\\site-packages\\sklearn\\linear_model\\_logistic.py:762: ConvergenceWarning: lbfgs failed to converge (status=1):\n",
      "STOP: TOTAL NO. of ITERATIONS REACHED LIMIT.\n",
      "\n",
      "Increase the number of iterations (max_iter) or scale the data as shown in:\n",
      "    https://scikit-learn.org/stable/modules/preprocessing.html\n",
      "Please also refer to the documentation for alternative solver options:\n",
      "    https://scikit-learn.org/stable/modules/linear_model.html#logistic-regression\n",
      "  n_iter_i = _check_optimize_result(\n",
      "C:\\Users\\jider\\anaconda3\\lib\\site-packages\\sklearn\\linear_model\\_logistic.py:762: ConvergenceWarning: lbfgs failed to converge (status=1):\n",
      "STOP: TOTAL NO. of ITERATIONS REACHED LIMIT.\n",
      "\n",
      "Increase the number of iterations (max_iter) or scale the data as shown in:\n",
      "    https://scikit-learn.org/stable/modules/preprocessing.html\n",
      "Please also refer to the documentation for alternative solver options:\n",
      "    https://scikit-learn.org/stable/modules/linear_model.html#logistic-regression\n",
      "  n_iter_i = _check_optimize_result(\n",
      "C:\\Users\\jider\\anaconda3\\lib\\site-packages\\sklearn\\linear_model\\_logistic.py:762: ConvergenceWarning: lbfgs failed to converge (status=1):\n",
      "STOP: TOTAL NO. of ITERATIONS REACHED LIMIT.\n",
      "\n",
      "Increase the number of iterations (max_iter) or scale the data as shown in:\n",
      "    https://scikit-learn.org/stable/modules/preprocessing.html\n",
      "Please also refer to the documentation for alternative solver options:\n",
      "    https://scikit-learn.org/stable/modules/linear_model.html#logistic-regression\n",
      "  n_iter_i = _check_optimize_result(\n",
      "C:\\Users\\jider\\anaconda3\\lib\\site-packages\\sklearn\\linear_model\\_logistic.py:762: ConvergenceWarning: lbfgs failed to converge (status=1):\n",
      "STOP: TOTAL NO. of ITERATIONS REACHED LIMIT.\n",
      "\n",
      "Increase the number of iterations (max_iter) or scale the data as shown in:\n",
      "    https://scikit-learn.org/stable/modules/preprocessing.html\n",
      "Please also refer to the documentation for alternative solver options:\n",
      "    https://scikit-learn.org/stable/modules/linear_model.html#logistic-regression\n",
      "  n_iter_i = _check_optimize_result(\n",
      "C:\\Users\\jider\\anaconda3\\lib\\site-packages\\sklearn\\linear_model\\_logistic.py:762: ConvergenceWarning: lbfgs failed to converge (status=1):\n",
      "STOP: TOTAL NO. of ITERATIONS REACHED LIMIT.\n",
      "\n",
      "Increase the number of iterations (max_iter) or scale the data as shown in:\n",
      "    https://scikit-learn.org/stable/modules/preprocessing.html\n",
      "Please also refer to the documentation for alternative solver options:\n",
      "    https://scikit-learn.org/stable/modules/linear_model.html#logistic-regression\n",
      "  n_iter_i = _check_optimize_result(\n",
      "C:\\Users\\jider\\anaconda3\\lib\\site-packages\\sklearn\\linear_model\\_logistic.py:762: ConvergenceWarning: lbfgs failed to converge (status=1):\n",
      "STOP: TOTAL NO. of ITERATIONS REACHED LIMIT.\n",
      "\n",
      "Increase the number of iterations (max_iter) or scale the data as shown in:\n",
      "    https://scikit-learn.org/stable/modules/preprocessing.html\n",
      "Please also refer to the documentation for alternative solver options:\n",
      "    https://scikit-learn.org/stable/modules/linear_model.html#logistic-regression\n",
      "  n_iter_i = _check_optimize_result(\n",
      "C:\\Users\\jider\\anaconda3\\lib\\site-packages\\sklearn\\linear_model\\_logistic.py:762: ConvergenceWarning: lbfgs failed to converge (status=1):\n",
      "STOP: TOTAL NO. of ITERATIONS REACHED LIMIT.\n",
      "\n",
      "Increase the number of iterations (max_iter) or scale the data as shown in:\n",
      "    https://scikit-learn.org/stable/modules/preprocessing.html\n",
      "Please also refer to the documentation for alternative solver options:\n",
      "    https://scikit-learn.org/stable/modules/linear_model.html#logistic-regression\n",
      "  n_iter_i = _check_optimize_result(\n",
      "C:\\Users\\jider\\anaconda3\\lib\\site-packages\\sklearn\\linear_model\\_logistic.py:762: ConvergenceWarning: lbfgs failed to converge (status=1):\n",
      "STOP: TOTAL NO. of ITERATIONS REACHED LIMIT.\n",
      "\n",
      "Increase the number of iterations (max_iter) or scale the data as shown in:\n",
      "    https://scikit-learn.org/stable/modules/preprocessing.html\n",
      "Please also refer to the documentation for alternative solver options:\n",
      "    https://scikit-learn.org/stable/modules/linear_model.html#logistic-regression\n",
      "  n_iter_i = _check_optimize_result(\n"
     ]
    },
    {
     "name": "stderr",
     "output_type": "stream",
     "text": [
      "C:\\Users\\jider\\anaconda3\\lib\\site-packages\\sklearn\\linear_model\\_logistic.py:762: ConvergenceWarning: lbfgs failed to converge (status=1):\n",
      "STOP: TOTAL NO. of ITERATIONS REACHED LIMIT.\n",
      "\n",
      "Increase the number of iterations (max_iter) or scale the data as shown in:\n",
      "    https://scikit-learn.org/stable/modules/preprocessing.html\n",
      "Please also refer to the documentation for alternative solver options:\n",
      "    https://scikit-learn.org/stable/modules/linear_model.html#logistic-regression\n",
      "  n_iter_i = _check_optimize_result(\n",
      "C:\\Users\\jider\\anaconda3\\lib\\site-packages\\sklearn\\linear_model\\_logistic.py:762: ConvergenceWarning: lbfgs failed to converge (status=1):\n",
      "STOP: TOTAL NO. of ITERATIONS REACHED LIMIT.\n",
      "\n",
      "Increase the number of iterations (max_iter) or scale the data as shown in:\n",
      "    https://scikit-learn.org/stable/modules/preprocessing.html\n",
      "Please also refer to the documentation for alternative solver options:\n",
      "    https://scikit-learn.org/stable/modules/linear_model.html#logistic-regression\n",
      "  n_iter_i = _check_optimize_result(\n",
      "C:\\Users\\jider\\anaconda3\\lib\\site-packages\\sklearn\\linear_model\\_logistic.py:762: ConvergenceWarning: lbfgs failed to converge (status=1):\n",
      "STOP: TOTAL NO. of ITERATIONS REACHED LIMIT.\n",
      "\n",
      "Increase the number of iterations (max_iter) or scale the data as shown in:\n",
      "    https://scikit-learn.org/stable/modules/preprocessing.html\n",
      "Please also refer to the documentation for alternative solver options:\n",
      "    https://scikit-learn.org/stable/modules/linear_model.html#logistic-regression\n",
      "  n_iter_i = _check_optimize_result(\n",
      "C:\\Users\\jider\\anaconda3\\lib\\site-packages\\sklearn\\linear_model\\_logistic.py:762: ConvergenceWarning: lbfgs failed to converge (status=1):\n",
      "STOP: TOTAL NO. of ITERATIONS REACHED LIMIT.\n",
      "\n",
      "Increase the number of iterations (max_iter) or scale the data as shown in:\n",
      "    https://scikit-learn.org/stable/modules/preprocessing.html\n",
      "Please also refer to the documentation for alternative solver options:\n",
      "    https://scikit-learn.org/stable/modules/linear_model.html#logistic-regression\n",
      "  n_iter_i = _check_optimize_result(\n"
     ]
    },
    {
     "name": "stdout",
     "output_type": "stream",
     "text": [
      "[False False False False False False False False False False False False\n",
      " False False False False False False False False False False  True  True\n",
      "  True  True  True  True False  True  True  True  True  True False  True\n",
      "  True  True False  True False False False False False False False False\n",
      " False False False False False  True  True  True  True  True False False\n",
      " False]\n",
      "[39 37 35 40 34 32 31 38 30 36 11  4  5  9 10 14  8  6 15  7 13 12  1  1\n",
      "  1  1  1  1 41  1  1  1  1  1 42  1  1  1  3  1  2 19 18 25 20 27 22 24\n",
      " 29 23 21 28 26  1  1  1  1  1 17 16 33]\n"
     ]
    }
   ],
   "source": [
    "#Performing feature selection to decide the significant X variables through Recursive Feature Elimination(RFE)\n",
    "\n",
    "df_final_vars= df_final.columns.values.tolist()\n",
    "\n",
    "y= ['y']\n",
    "\n",
    "x= [i for i in df_final_vars if i not in y]\n",
    "      \n",
    "from sklearn.feature_selection import RFE\n",
    "from sklearn.linear_model import LogisticRegression\n",
    "\n",
    "logreg = LogisticRegression()\n",
    "\n",
    "rfe = RFE(logreg, 20)\n",
    "\n",
    "rfe = rfe.fit(OS_df_x, OS_df_y.values.ravel())\n",
    "\n",
    "print(rfe.support_)\n",
    "print(rfe.ranking_)"
   ]
  },
  {
   "cell_type": "code",
   "execution_count": 45,
   "metadata": {},
   "outputs": [
    {
     "name": "stdout",
     "output_type": "stream",
     "text": [
      "Warning: Maximum number of iterations has been exceeded.\n",
      "         Current function value: 0.320418\n",
      "         Iterations: 35\n",
      "                           Logit Regression Results                           \n",
      "==============================================================================\n",
      "Dep. Variable:                      y   No. Observations:                51162\n",
      "Model:                          Logit   Df Residuals:                    51141\n",
      "Method:                           MLE   Df Model:                           20\n",
      "Date:                Sun, 27 Sep 2020   Pseudo R-squ.:                  0.5377\n",
      "Time:                        20:20:52   Log-Likelihood:                -16393.\n",
      "converged:                      False   LL-Null:                       -35463.\n",
      "Covariance Type:            nonrobust   LLR p-value:                     0.000\n",
      "========================================================================================\n",
      "                           coef    std err          z      P>|z|      [0.025      0.975]\n",
      "----------------------------------------------------------------------------------------\n",
      "constant                29.5122    127.373      0.232      0.817    -220.135     279.159\n",
      "euribor3m               -0.4509      0.011    -39.720      0.000      -0.473      -0.429\n",
      "job_blue-collar         -1.0541      0.046    -22.783      0.000      -1.145      -0.963\n",
      "job_housemaid           -1.2254      0.142     -8.654      0.000      -1.503      -0.948\n",
      "marital_unknown         -0.7530      0.428     -1.761      0.078      -1.591       0.085\n",
      "education_illiterate     0.3408      0.754      0.452      0.651      -1.138       1.819\n",
      "default_no              -8.1086      0.709    -11.442      0.000      -9.498      -6.720\n",
      "default_unknown         -8.9906      0.710    -12.662      0.000     -10.382      -7.599\n",
      "contact_cellular       -16.7689    127.371     -0.132      0.895    -266.412     232.874\n",
      "contact_telephone      -17.4522    127.371     -0.137      0.891    -267.095     232.191\n",
      "month_apr               -3.8451      0.083    -46.556      0.000      -4.007      -3.683\n",
      "month_aug               -3.9134      0.080    -48.652      0.000      -4.071      -3.756\n",
      "month_dec               -3.5110      0.177    -19.859      0.000      -3.858      -3.164\n",
      "month_jul               -3.4704      0.081    -42.697      0.000      -3.630      -3.311\n",
      "month_jun               -3.3961      0.083    -41.035      0.000      -3.558      -3.234\n",
      "month_mar               -3.0447      0.114    -26.727      0.000      -3.268      -2.821\n",
      "month_may               -4.1109      0.076    -54.255      0.000      -4.259      -3.962\n",
      "month_nov               -3.8674      0.083    -46.409      0.000      -4.031      -3.704\n",
      "month_oct               -2.8282      0.109    -25.953      0.000      -3.042      -2.615\n",
      "poutcome_failure        -1.3959      0.052    -26.844      0.000      -1.498      -1.294\n",
      "poutcome_success         1.0801      0.068     15.907      0.000       0.947       1.213\n",
      "========================================================================================\n",
      "\n",
      "Possibly complete quasi-separation: A fraction 0.11 of observations can be\n",
      "perfectly predicted. This might indicate that there is complete\n",
      "quasi-separation. In this case some parameters will not be identified.\n"
     ]
    },
    {
     "name": "stderr",
     "output_type": "stream",
     "text": [
      "C:\\Users\\jider\\anaconda3\\lib\\site-packages\\statsmodels\\base\\model.py:567: ConvergenceWarning: Maximum Likelihood optimization failed to converge. Check mle_retvals\n",
      "  warn(\"Maximum Likelihood optimization failed to converge. \"\n"
     ]
    },
    {
     "data": {
      "text/plain": [
       "constant                30.733006\n",
       "euribor3m                2.535908\n",
       "job_blue-collar          1.135521\n",
       "job_housemaid            1.015919\n",
       "marital_unknown          1.000868\n",
       "education_illiterate     1.000710\n",
       "default_no               2.842361\n",
       "default_unknown          2.906355\n",
       "contact_cellular         3.274291\n",
       "contact_telephone        4.033929\n",
       "month_apr                1.226677\n",
       "month_aug                1.649560\n",
       "month_dec                1.018390\n",
       "month_jul                1.893080\n",
       "month_jun                1.649228\n",
       "month_mar                1.052854\n",
       "month_may                2.147253\n",
       "month_nov                1.409864\n",
       "month_oct                1.076317\n",
       "poutcome_failure         1.129964\n",
       "poutcome_success         1.225316\n",
       "dtype: float64"
      ]
     },
     "execution_count": 45,
     "metadata": {},
     "output_type": "execute_result"
    }
   ],
   "source": [
    "#For the final model, I used the support(True/False) and ranking(1/non-1's) to select the features below\n",
    "#The constant is added as a base rate of subscription for investment product. Statmodels should include intercepts\n",
    "# I used variance inflation factor to identify possible multicollinearity among the predictors\n",
    "\n",
    "OS_df_x['constant']= 1\n",
    "\n",
    "cols=['constant','euribor3m', 'job_blue-collar', 'job_housemaid', 'marital_unknown', 'education_illiterate', 'default_no', 'default_unknown', \n",
    "      'contact_cellular','contact_telephone','month_apr','month_aug','month_dec','month_jul','month_jun','month_mar', 'month_may','month_nov','month_oct',\"poutcome_failure\", \"poutcome_success\"]\n",
    "\n",
    "x=OS_df_x[cols]\n",
    "y=OS_df_y['y']\n",
    "\n",
    "import statsmodels.api as sm\n",
    "from statsmodels.stats.outliers_influence import variance_inflation_factor\n",
    "\n",
    "logit_model=sm.Logit(y,x)\n",
    "result=logit_model.fit()\n",
    "print(result.summary())\n",
    "\n",
    "pd.Series([variance_inflation_factor(x.values,i) for i in range(x.shape[1])],index= x.columns)\n"
   ]
  },
  {
   "cell_type": "code",
   "execution_count": 46,
   "metadata": {},
   "outputs": [
    {
     "name": "stdout",
     "output_type": "stream",
     "text": [
      "Optimization terminated successfully.\n",
      "         Current function value: 0.336452\n",
      "         Iterations 12\n",
      "                          Results: Logit\n",
      "==================================================================\n",
      "Model:               Logit            Pseudo R-squared: 0.515     \n",
      "Dependent Variable:  y                AIC:              34461.1127\n",
      "Date:                2020-09-27 20:22 BIC:              34611.4395\n",
      "No. Observations:    51162            Log-Likelihood:   -17214.   \n",
      "Df Model:            16               LL-Null:          -35463.   \n",
      "Df Residuals:        51145            LLR p-value:      0.0000    \n",
      "Converged:           1.0000           Scale:            1.0000    \n",
      "No. Iterations:      12.0000                                      \n",
      "------------------------------------------------------------------\n",
      "                  Coef.  Std.Err.    z     P>|z|   [0.025   0.975]\n",
      "------------------------------------------------------------------\n",
      "constant         13.5640   0.7131  19.0201 0.0000  12.1662 14.9617\n",
      "euribor3m        -0.5428   0.0095 -56.9418 0.0000  -0.5614 -0.5241\n",
      "job_blue-collar  -1.0515   0.0447 -23.5439 0.0000  -1.1390 -0.9640\n",
      "job_housemaid    -1.3156   0.1416  -9.2901 0.0000  -1.5931 -1.0380\n",
      "default_no       -8.0360   0.7083 -11.3456 0.0000  -9.4242 -6.6478\n",
      "default_unknown  -8.9341   0.7096 -12.5908 0.0000 -10.3249 -7.5434\n",
      "month_apr        -4.5604   0.0835 -54.6240 0.0000  -4.7240 -4.3968\n",
      "month_aug        -4.4304   0.0791 -56.0110 0.0000  -4.5854 -4.2754\n",
      "month_dec        -4.1633   0.1697 -24.5263 0.0000  -4.4960 -3.8306\n",
      "month_jul        -3.9494   0.0780 -50.6571 0.0000  -4.1022 -3.7966\n",
      "month_jun        -4.3127   0.0802 -53.7974 0.0000  -4.4698 -4.1556\n",
      "month_mar        -3.7699   0.1138 -33.1332 0.0000  -3.9929 -3.5469\n",
      "month_may        -4.9480   0.0755 -65.5210 0.0000  -5.0960 -4.8000\n",
      "month_nov        -4.3854   0.0818 -53.6373 0.0000  -4.5456 -4.2251\n",
      "month_oct        -3.6433   0.1074 -33.9231 0.0000  -3.8538 -3.4328\n",
      "poutcome_failure -1.4761   0.0524 -28.1614 0.0000  -1.5788 -1.3733\n",
      "poutcome_success  0.9682   0.0675  14.3408 0.0000   0.8359  1.1006\n",
      "==================================================================\n",
      "\n"
     ]
    },
    {
     "data": {
      "text/plain": [
       "constant            22.099903\n",
       "euribor3m            1.780041\n",
       "job_blue-collar      1.135109\n",
       "job_housemaid        1.015359\n",
       "default_no           2.769652\n",
       "default_unknown      2.834367\n",
       "month_apr            1.190475\n",
       "month_aug            1.427187\n",
       "month_dec            1.015641\n",
       "month_jul            1.622777\n",
       "month_jun            1.378634\n",
       "month_mar            1.045775\n",
       "month_may            1.700177\n",
       "month_nov            1.304876\n",
       "month_oct            1.057241\n",
       "poutcome_failure     1.125225\n",
       "poutcome_success     1.215516\n",
       "dtype: float64"
      ]
     },
     "execution_count": 46,
     "metadata": {},
     "output_type": "execute_result"
    }
   ],
   "source": [
    "# Most predictors have p-values less than 5%, save for 4 others features. I removed variables with p-values greater than 0.05 \n",
    "\n",
    "cols=['constant','euribor3m','job_blue-collar','job_housemaid','default_no','default_unknown','month_apr','month_aug','month_dec','month_jul', 'month_jun','month_mar','month_may','month_nov','month_oct', \"poutcome_failure\",\"poutcome_success\"]\n",
    "\n",
    "\n",
    "x1=OS_df_x[cols]\n",
    "y1=OS_df_y['y']\n",
    "\n",
    "\n",
    "logit_model=sm.Logit(y1,x1)\n",
    "result=logit_model.fit()\n",
    "print(result.summary2())\n",
    "\n",
    "pd.Series([variance_inflation_factor(x1.values,i) for i in range(x1.shape[1])],index= x1.columns)"
   ]
  },
  {
   "cell_type": "code",
   "execution_count": 58,
   "metadata": {},
   "outputs": [
    {
     "data": {
      "text/plain": [
       "0.8612446737813221"
      ]
     },
     "execution_count": 58,
     "metadata": {},
     "output_type": "execute_result"
    }
   ],
   "source": [
    "#I tried to compare the Statmodel to sklearn LR method. The Statmodel automatically calculates p-values, unlike sklearn\n",
    "# However, sklearn is more powerful for calculation-intensive tasks, such as calculating scores, predictions, advanced functions like features selection\n",
    "# Statmodel.api methods are suitable for exploring and fine-tuning the models\n",
    "\n",
    "# First, using sklearn (w/o intercept), I built the logistic regression on the entire data. This indicated score at 83% accuracy with rooms for improvement\n",
    "\n",
    "cols2=['euribor3m','job_blue-collar','job_housemaid','default_no','default_unknown','month_apr','month_aug','month_dec','month_jul','month_jun','month_mar','month_may','month_nov', 'month_oct',\"poutcome_failure\",\"poutcome_success\"]\n",
    "\n",
    "\n",
    "x2=OS_df_x[cols2]\n",
    "y2=OS_df_y['y']\n",
    "\n",
    "from sklearn import linear_model \n",
    "logreg= linear_model.LogisticRegression()\n",
    "\n",
    "logreg.fit(x2,y2)\n",
    "logreg.score(x2,y2)"
   ]
  },
  {
   "cell_type": "code",
   "execution_count": 66,
   "metadata": {},
   "outputs": [
    {
     "data": {
      "text/html": [
       "<div>\n",
       "<style scoped>\n",
       "    .dataframe tbody tr th:only-of-type {\n",
       "        vertical-align: middle;\n",
       "    }\n",
       "\n",
       "    .dataframe tbody tr th {\n",
       "        vertical-align: top;\n",
       "    }\n",
       "\n",
       "    .dataframe thead th {\n",
       "        text-align: right;\n",
       "    }\n",
       "</style>\n",
       "<table border=\"1\" class=\"dataframe\">\n",
       "  <thead>\n",
       "    <tr style=\"text-align: right;\">\n",
       "      <th></th>\n",
       "      <th>0</th>\n",
       "      <th>1</th>\n",
       "    </tr>\n",
       "  </thead>\n",
       "  <tbody>\n",
       "    <tr>\n",
       "      <th>0</th>\n",
       "      <td>euribor3m</td>\n",
       "      <td>[-0.5382574662903299]</td>\n",
       "    </tr>\n",
       "    <tr>\n",
       "      <th>1</th>\n",
       "      <td>job_blue-collar</td>\n",
       "      <td>[-1.0484565272703628]</td>\n",
       "    </tr>\n",
       "    <tr>\n",
       "      <th>2</th>\n",
       "      <td>job_housemaid</td>\n",
       "      <td>[-1.2972768513093862]</td>\n",
       "    </tr>\n",
       "    <tr>\n",
       "      <th>3</th>\n",
       "      <td>default_no</td>\n",
       "      <td>[-5.99850811132283]</td>\n",
       "    </tr>\n",
       "    <tr>\n",
       "      <th>4</th>\n",
       "      <td>default_unknown</td>\n",
       "      <td>[-6.880878694359203]</td>\n",
       "    </tr>\n",
       "    <tr>\n",
       "      <th>5</th>\n",
       "      <td>month_apr</td>\n",
       "      <td>[-4.3769630915803885]</td>\n",
       "    </tr>\n",
       "    <tr>\n",
       "      <th>6</th>\n",
       "      <td>month_aug</td>\n",
       "      <td>[-4.255726742279976]</td>\n",
       "    </tr>\n",
       "    <tr>\n",
       "      <th>7</th>\n",
       "      <td>month_dec</td>\n",
       "      <td>[-3.8915556761938515]</td>\n",
       "    </tr>\n",
       "    <tr>\n",
       "      <th>8</th>\n",
       "      <td>month_jul</td>\n",
       "      <td>[-3.7807993714355064]</td>\n",
       "    </tr>\n",
       "    <tr>\n",
       "      <th>9</th>\n",
       "      <td>month_jun</td>\n",
       "      <td>[-4.136797961098311]</td>\n",
       "    </tr>\n",
       "    <tr>\n",
       "      <th>10</th>\n",
       "      <td>month_mar</td>\n",
       "      <td>[-3.565269113599934]</td>\n",
       "    </tr>\n",
       "    <tr>\n",
       "      <th>11</th>\n",
       "      <td>month_may</td>\n",
       "      <td>[-4.769500050903288]</td>\n",
       "    </tr>\n",
       "    <tr>\n",
       "      <th>12</th>\n",
       "      <td>month_nov</td>\n",
       "      <td>[-4.2088517866181006]</td>\n",
       "    </tr>\n",
       "    <tr>\n",
       "      <th>13</th>\n",
       "      <td>month_oct</td>\n",
       "      <td>[-3.445651936245235]</td>\n",
       "    </tr>\n",
       "    <tr>\n",
       "      <th>14</th>\n",
       "      <td>poutcome_failure</td>\n",
       "      <td>[-1.4712548214628283]</td>\n",
       "    </tr>\n",
       "    <tr>\n",
       "      <th>15</th>\n",
       "      <td>poutcome_success</td>\n",
       "      <td>[0.9667016768430569]</td>\n",
       "    </tr>\n",
       "  </tbody>\n",
       "</table>\n",
       "</div>"
      ],
      "text/plain": [
       "                   0                      1\n",
       "0          euribor3m  [-0.5382574662903299]\n",
       "1    job_blue-collar  [-1.0484565272703628]\n",
       "2      job_housemaid  [-1.2972768513093862]\n",
       "3         default_no    [-5.99850811132283]\n",
       "4    default_unknown   [-6.880878694359203]\n",
       "5          month_apr  [-4.3769630915803885]\n",
       "6          month_aug   [-4.255726742279976]\n",
       "7          month_dec  [-3.8915556761938515]\n",
       "8          month_jul  [-3.7807993714355064]\n",
       "9          month_jun   [-4.136797961098311]\n",
       "10         month_mar   [-3.565269113599934]\n",
       "11         month_may   [-4.769500050903288]\n",
       "12         month_nov  [-4.2088517866181006]\n",
       "13         month_oct   [-3.445651936245235]\n",
       "14  poutcome_failure  [-1.4712548214628283]\n",
       "15  poutcome_success   [0.9667016768430569]"
      ]
     },
     "execution_count": 66,
     "metadata": {},
     "output_type": "execute_result"
    }
   ],
   "source": [
    "# For the value of the coefficients,indicating the change in the log(odds) for a unit change in the variables\n",
    "\n",
    "import numpy as np\n",
    "\n",
    "pd.DataFrame(zip(x2.columns, np.transpose(logreg.coef_)))\n",
    "\n"
   ]
  },
  {
   "cell_type": "code",
   "execution_count": 67,
   "metadata": {},
   "outputs": [
    {
     "name": "stderr",
     "output_type": "stream",
     "text": [
      "C:\\Users\\jider\\anaconda3\\lib\\site-packages\\sklearn\\linear_model\\_logistic.py:762: ConvergenceWarning: lbfgs failed to converge (status=1):\n",
      "STOP: TOTAL NO. of ITERATIONS REACHED LIMIT.\n",
      "\n",
      "Increase the number of iterations (max_iter) or scale the data as shown in:\n",
      "    https://scikit-learn.org/stable/modules/preprocessing.html\n",
      "Please also refer to the documentation for alternative solver options:\n",
      "    https://scikit-learn.org/stable/modules/linear_model.html#logistic-regression\n",
      "  n_iter_i = _check_optimize_result(\n"
     ]
    }
   ],
   "source": [
    "# Spliting the data into train and test set, building the model with train set and checking model accuracy using the test set\n",
    "\n",
    "from sklearn import metrics\n",
    "from sklearn.metrics import mean_squared_error, mean_absolute_error\n",
    "import math\n",
    "\n",
    "x2_train, x2_test, y2_train, y2_test = train_test_split(x2, y2, test_size=0.3, random_state=0)\n",
    "\n",
    "logreg2= LogisticRegression()\n",
    "\n",
    "logreg2.fit(x2_train, y2_train)\n",
    "\n",
    "logreg2.score(x2_train, y2_train)\n",
    "\n",
    "logreg2.coef_\n",
    "\n",
    "y2_hat_train= logreg2.predict(x2_train)"
   ]
  },
  {
   "cell_type": "code",
   "execution_count": 61,
   "metadata": {},
   "outputs": [
    {
     "name": "stdout",
     "output_type": "stream",
     "text": [
      "Accuracy of logreg classifier on test set: 0.86\n",
      "Root Mean Squared Error= 0.36953501516772674\n",
      "Mean Absolute Error= 0.13655612743501205\n"
     ]
    }
   ],
   "source": [
    "# Extrapolating the trained model on test to predict the test set result and check accuracy \n",
    "# Accuracy of logistic regression on test set is 86%, RMSE is 0.37\n",
    "\n",
    "y2_hat_test= logreg2.predict(x2_test)\n",
    "\n",
    "print('Accuracy of logreg classifier on test set: {:.2f}'.format(logreg.score(x2_test, y2_test)))\n",
    "\n",
    "#Studying other decision criteria- Mean Absolute Error(MAE),Root Mean Squared Error(RMSE)\n",
    "\n",
    "MAE= mean_absolute_error(y2_test, y2_hat_test)\n",
    "\n",
    "RMSE = math.sqrt(mean_absolute_error(y2_test, y2_hat_test))\n",
    "\n",
    "print('Root Mean Squared Error=', RMSE)\n",
    "\n",
    "print('Mean Absolute Error=', MAE)"
   ]
  },
  {
   "cell_type": "code",
   "execution_count": 62,
   "metadata": {},
   "outputs": [
    {
     "name": "stdout",
     "output_type": "stream",
     "text": [
      "[[7071  665]\n",
      " [1431 6182]]\n",
      "              precision    recall  f1-score   support\n",
      "\n",
      "           0       0.83      0.91      0.87      7736\n",
      "           1       0.90      0.81      0.86      7613\n",
      "\n",
      "    accuracy                           0.86     15349\n",
      "   macro avg       0.87      0.86      0.86     15349\n",
      "weighted avg       0.87      0.86      0.86     15349\n",
      "\n"
     ]
    }
   ],
   "source": [
    "#Confusion Matrix to compute the classifier's precision, recall, F-measure and support\n",
    "\n",
    "from sklearn.metrics import confusion_matrix\n",
    "confusion_matrix = confusion_matrix(y2_test, y2_hat_test)\n",
    "print(confusion_matrix)\n",
    "\n",
    "from sklearn.metrics import classification_report\n",
    "print(classification_report(y2_test, y2_hat_test))"
   ]
  },
  {
   "cell_type": "code",
   "execution_count": 63,
   "metadata": {},
   "outputs": [
    {
     "name": "stderr",
     "output_type": "stream",
     "text": [
      "C:\\Users\\jider\\anaconda3\\lib\\site-packages\\sklearn\\linear_model\\_logistic.py:762: ConvergenceWarning: lbfgs failed to converge (status=1):\n",
      "STOP: TOTAL NO. of ITERATIONS REACHED LIMIT.\n",
      "\n",
      "Increase the number of iterations (max_iter) or scale the data as shown in:\n",
      "    https://scikit-learn.org/stable/modules/preprocessing.html\n",
      "Please also refer to the documentation for alternative solver options:\n",
      "    https://scikit-learn.org/stable/modules/linear_model.html#logistic-regression\n",
      "  n_iter_i = _check_optimize_result(\n",
      "C:\\Users\\jider\\anaconda3\\lib\\site-packages\\sklearn\\linear_model\\_logistic.py:762: ConvergenceWarning: lbfgs failed to converge (status=1):\n",
      "STOP: TOTAL NO. of ITERATIONS REACHED LIMIT.\n",
      "\n",
      "Increase the number of iterations (max_iter) or scale the data as shown in:\n",
      "    https://scikit-learn.org/stable/modules/preprocessing.html\n",
      "Please also refer to the documentation for alternative solver options:\n",
      "    https://scikit-learn.org/stable/modules/linear_model.html#logistic-regression\n",
      "  n_iter_i = _check_optimize_result(\n",
      "C:\\Users\\jider\\anaconda3\\lib\\site-packages\\sklearn\\linear_model\\_logistic.py:762: ConvergenceWarning: lbfgs failed to converge (status=1):\n",
      "STOP: TOTAL NO. of ITERATIONS REACHED LIMIT.\n",
      "\n",
      "Increase the number of iterations (max_iter) or scale the data as shown in:\n",
      "    https://scikit-learn.org/stable/modules/preprocessing.html\n",
      "Please also refer to the documentation for alternative solver options:\n",
      "    https://scikit-learn.org/stable/modules/linear_model.html#logistic-regression\n",
      "  n_iter_i = _check_optimize_result(\n",
      "C:\\Users\\jider\\anaconda3\\lib\\site-packages\\sklearn\\linear_model\\_logistic.py:762: ConvergenceWarning: lbfgs failed to converge (status=1):\n",
      "STOP: TOTAL NO. of ITERATIONS REACHED LIMIT.\n",
      "\n",
      "Increase the number of iterations (max_iter) or scale the data as shown in:\n",
      "    https://scikit-learn.org/stable/modules/preprocessing.html\n",
      "Please also refer to the documentation for alternative solver options:\n",
      "    https://scikit-learn.org/stable/modules/linear_model.html#logistic-regression\n",
      "  n_iter_i = _check_optimize_result(\n"
     ]
    },
    {
     "name": "stdout",
     "output_type": "stream",
     "text": [
      "[0.69340213 0.87523452 0.8881939  0.89007037 0.89304144 0.87943706\n",
      " 0.88381548 0.87458952]\n",
      "0.8597230524501973\n"
     ]
    },
    {
     "name": "stderr",
     "output_type": "stream",
     "text": [
      "C:\\Users\\jider\\anaconda3\\lib\\site-packages\\sklearn\\linear_model\\_logistic.py:762: ConvergenceWarning: lbfgs failed to converge (status=1):\n",
      "STOP: TOTAL NO. of ITERATIONS REACHED LIMIT.\n",
      "\n",
      "Increase the number of iterations (max_iter) or scale the data as shown in:\n",
      "    https://scikit-learn.org/stable/modules/preprocessing.html\n",
      "Please also refer to the documentation for alternative solver options:\n",
      "    https://scikit-learn.org/stable/modules/linear_model.html#logistic-regression\n",
      "  n_iter_i = _check_optimize_result(\n"
     ]
    }
   ],
   "source": [
    "# The 8-fold cross validation method to calculate the accuracy of each iteration \n",
    "# The average accuracy is very close to 83% as earlier seen in the split dataset\n",
    "# Therefore, it can be implied that the model generlises well\n",
    "\n",
    "from sklearn.model_selection import cross_val_score\n",
    "\n",
    "scores = cross_val_score(logreg2,x2,y2, scoring= 'accuracy',cv=8)\n",
    "\n",
    "print(scores)\n",
    "print(scores.mean())"
   ]
  },
  {
   "cell_type": "code",
   "execution_count": 64,
   "metadata": {},
   "outputs": [
    {
     "data": {
      "image/png": "[encoded data removed]",
      "text/plain": [
       "<Figure size 432x288 with 1 Axes>"
      ]
     },
     "metadata": {
      "needs_background": "light"
     },
     "output_type": "display_data"
    }
   ],
   "source": [
    "# Receiver Operating Characteristics Curve-ROC curve intercept on positive y axis(true positive rate axis)-suggesting high sensitivity.\n",
    "# AUC(Area under the curve) approximates 1, indicating a good classifier\n",
    "# ROC illustrates the diagnostic ability of a binary classifier system as its discrimination threshold is varied\n",
    "\n",
    "from sklearn.metrics import roc_auc_score\n",
    "from sklearn.metrics import roc_curve\n",
    "logit_roc_auc = roc_auc_score(y2_test, logreg.predict(x2_test))\n",
    "fpr, tpr, thresholds = roc_curve(y2_test, logreg.predict_proba(x2_test)[:,1])\n",
    "plt.figure()\n",
    "plt.plot(fpr, tpr, label='Logistic Regression (area = %0.2f)' % logit_roc_auc)\n",
    "plt.plot([0, 1], [0, 1],'r--')\n",
    "plt.xlim([0.0, 1.0])\n",
    "plt.ylim([0.0, 1.05])\n",
    "plt.xlabel('False Positive Rate')\n",
    "plt.ylabel('True Positive Rate')\n",
    "plt.legend(loc=\"lower right\")\n",
    "plt.savefig('Log_ROC')\n",
    "plt.show()"
   ]
  },
  {
   "cell_type": "code",
   "execution_count": null,
   "metadata": {},
   "outputs": [],
   "source": []
  }
 ],
 "metadata": {
  "kernelspec": {
   "display_name": "Python 3",
   "language": "python",
   "name": "python3"
  },
  "language_info": {
   "codemirror_mode": {
    "name": "ipython",
    "version": 3
   },
   "file_extension": ".py",
   "mimetype": "text/x-python",
   "name": "python",
   "nbconvert_exporter": "python",
   "pygments_lexer": "ipython3",
   "version": "3.8.3"
  }
 },
 "nbformat": 4,
 "nbformat_minor": 4
}
